{
 "cells": [
  {
   "cell_type": "code",
   "execution_count": 1,
   "id": "1c64e5d7-59a5-4e0e-8319-025794296d0a",
   "metadata": {},
   "outputs": [],
   "source": [
    "import requests\n",
    "import json"
   ]
  },
  {
   "cell_type": "code",
   "execution_count": 18,
   "id": "33f518ba-a554-4532-af52-0f46b0a0348e",
   "metadata": {},
   "outputs": [],
   "source": [
    "def get_btc_dominance():\n",
    "    url = 'https://pro-api.coinmarketcap.com/v1/global-metrics/quotes/latest'\n",
    "\n",
    "    header = {\n",
    "        'Accepts': 'application/json',\n",
    "        'X-CMC_PRO_API_KEY': '30a9d585-12b3-4885-95ed-c94d8c5cf8b8',\n",
    "    }\n",
    "\n",
    "    try:\n",
    "        response = requests.get(url, headers=header)\n",
    "        response.raise_for_status()\n",
    "        data = response.json()\n",
    "        btc_dominance = data['data']['btc_dominance']\n",
    "        return btc_dominance\n",
    "        \n",
    "    except requests.RequestException as e:\n",
    "        return f\"Failed with {e}\""
   ]
  },
  {
   "cell_type": "code",
   "execution_count": 20,
   "id": "842a4478-ba8d-49cc-bd61-42f6677aa9c5",
   "metadata": {},
   "outputs": [],
   "source": [
    "def get_total_market_cap():\n",
    "    url = 'https://pro-api.coinmarketcap.com/v1/global-metrics/quotes/latest'\n",
    "\n",
    "    header = {\n",
    "        'Accepts': 'application/json',\n",
    "        'X-CMC_PRO_API_KEY': '30a9d585-12b3-4885-95ed-c94d8c5cf8b8',\n",
    "    }\n",
    "    \n",
    "    try:\n",
    "        response = requests.get(url, headers=header)\n",
    "        response.raise_for_status()\n",
    "        data = response.json()\n",
    "        market_cap = data['data']['quote']['USD']['total_market_cap']\n",
    "        return market_cap\n",
    "        \n",
    "    except requests.RequestException as e:\n",
    "        return f\"Failed with {e}\""
   ]
  },
  {
   "cell_type": "code",
   "execution_count": 36,
   "id": "1cc03fc1-1efc-4eb1-b090-501728ea6608",
   "metadata": {},
   "outputs": [],
   "source": [
    "def get_fear_and_greed():\n",
    "    url = 'https://api.alternative.me/fng/'\n",
    "\n",
    "    header = {\n",
    "        'Accepts': 'application/json',\n",
    "    }\n",
    "\n",
    "    try:\n",
    "        response = requests.get(url, headers=header)\n",
    "        response.raise_for_status()\n",
    "        data = response.json()\n",
    "        # data = [{value, value_classification, timestamp, time_until_update}]\n",
    "        data = list(data['data'])\n",
    "        value = data[0]['value']\n",
    "        classification = data[0]['value_classification']\n",
    "        \n",
    "        return int(value), classification\n",
    "        \n",
    "    except requests.RequestException as e:\n",
    "        return f\"Failed with {e}\""
   ]
  },
  {
   "cell_type": "code",
   "execution_count": 9,
   "id": "4580f88b-23c9-4d7d-b0da-0448e7331a92",
   "metadata": {},
   "outputs": [],
   "source": [
    "def get_leaderboard(num):\n",
    "    url = 'https://pro-api.coinmarketcap.com/v1/cryptocurrency/listings/latest'\n",
    "\n",
    "    header = {\n",
    "        'Accepts': 'application/json',\n",
    "        'X-CMC_PRO_API_KEY': '30a9d585-12b3-4885-95ed-c94d8c5cf8b8',\n",
    "    }\n",
    "\n",
    "    params = {\n",
    "        'limit': num,\n",
    "        'sort': 'market_cap',\n",
    "    }\n",
    "\n",
    "    try:\n",
    "        response = requests.get(url, headers=header, params=params)\n",
    "        response.raise_for_status()\n",
    "        data = response.json()\n",
    "        data = list(data['data'])\n",
    "\n",
    "        ret = []\n",
    "        # name, symbol, price usd, % price change 24h, market cap, % market cap dominance, volume 24h, volume change 24h\n",
    "        for c in data:\n",
    "            name = c['name']\n",
    "            symbol = c['symbol']\n",
    "            price = c['quote']['USD']['price']\n",
    "            percent_change_24h = c['quote']['USD']['percent_change_24h']\n",
    "            market_cap = c['quote']['USD']['market_cap']\n",
    "            market_cap_dominance = c['quote']['USD']['market_cap_dominance']\n",
    "            volume_24h = c['quote']['USD']['volume_24h']\n",
    "            volume_change_24h = c['quote']['USD']['volume_change_24h']\n",
    "\n",
    "            ret.append([name, symbol, price, percent_change_24h, market_cap, market_cap_dominance, volume_24h, volume_change_24h])\n",
    "        return ret\n",
    "        \n",
    "    except requests.RequestException as e:\n",
    "        return f\"Failed with {e}\"\n",
    "\n"
   ]
  },
  {
   "cell_type": "code",
   "execution_count": 10,
   "id": "81f5256c-f030-448a-ab82-3bdfabb4e46b",
   "metadata": {
    "scrolled": true
   },
   "outputs": [
    {
     "data": {
      "text/plain": [
       "[['Bitcoin',\n",
       "  'BTC',\n",
       "  73133.04188798855,\n",
       "  2.91546201,\n",
       "  1437320677543.8345,\n",
       "  52.0851,\n",
       "  48864080934.65164,\n",
       "  -22.1227],\n",
       " ['Ethereum',\n",
       "  'ETH',\n",
       "  3996.4459052794077,\n",
       "  1.26671625,\n",
       "  479931683370.95825,\n",
       "  17.3916,\n",
       "  22226216057.62798,\n",
       "  -17.4554],\n",
       " ['Tether USDt',\n",
       "  'USDT',\n",
       "  1.0008711481756933,\n",
       "  0.04800332,\n",
       "  102752294572.87808,\n",
       "  3.7235,\n",
       "  95552237516.26523,\n",
       "  -17.7793],\n",
       " ['BNB',\n",
       "  'BNB',\n",
       "  596.4978528481998,\n",
       "  11.37931793,\n",
       "  89199931657.29637,\n",
       "  3.2324,\n",
       "  5161774029.400563,\n",
       "  17.9147],\n",
       " ['Solana',\n",
       "  'SOL',\n",
       "  164.00138447126892,\n",
       "  10.85926879,\n",
       "  72739835698.31923,\n",
       "  2.6359,\n",
       "  5754401738.7677145,\n",
       "  -8.8129]]"
      ]
     },
     "execution_count": 10,
     "metadata": {},
     "output_type": "execute_result"
    }
   ],
   "source": [
    "get_leaderboard(5)"
   ]
  }
 ],
 "metadata": {
  "kernelspec": {
   "display_name": "Python 3 (ipykernel)",
   "language": "python",
   "name": "python3"
  },
  "language_info": {
   "codemirror_mode": {
    "name": "ipython",
    "version": 3
   },
   "file_extension": ".py",
   "mimetype": "text/x-python",
   "name": "python",
   "nbconvert_exporter": "python",
   "pygments_lexer": "ipython3",
   "version": "3.10.12"
  }
 },
 "nbformat": 4,
 "nbformat_minor": 5
}
