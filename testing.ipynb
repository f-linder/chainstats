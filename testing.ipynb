{
 "cells": [
  {
   "cell_type": "code",
   "execution_count": 10,
   "id": "1c64e5d7-59a5-4e0e-8319-025794296d0a",
   "metadata": {},
   "outputs": [],
   "source": [
    "import requests\n",
    "import json"
   ]
  },
  {
   "cell_type": "code",
   "execution_count": 18,
   "id": "33f518ba-a554-4532-af52-0f46b0a0348e",
   "metadata": {},
   "outputs": [],
   "source": [
    "def get_btc_dominance():\n",
    "    url = 'https://pro-api.coinmarketcap.com/v1/global-metrics/quotes/latest'\n",
    "\n",
    "    header = {\n",
    "      'Accepts': 'application/json',\n",
    "      'X-CMC_PRO_API_KEY': '30a9d585-12b3-4885-95ed-c94d8c5cf8b8',\n",
    "    }\n",
    "\n",
    "    try:\n",
    "        response = requests.get(url, headers=header)\n",
    "        response.raise_for_status()\n",
    "        data = response.json()\n",
    "        btc_dominance = data['data']['btc_dominance']\n",
    "        return btc_dominance\n",
    "        \n",
    "    except requests.RequestException as e:\n",
    "        return f\"Failed with {e}\""
   ]
  },
  {
   "cell_type": "code",
   "execution_count": 20,
   "id": "842a4478-ba8d-49cc-bd61-42f6677aa9c5",
   "metadata": {},
   "outputs": [],
   "source": [
    "def get_total_market_cap():\n",
    "    url = 'https://pro-api.coinmarketcap.com/v1/global-metrics/quotes/latest'\n",
    "\n",
    "    header = {\n",
    "      'Accepts': 'application/json',\n",
    "      'X-CMC_PRO_API_KEY': '30a9d585-12b3-4885-95ed-c94d8c5cf8b8',\n",
    "    }\n",
    "    \n",
    "    try:\n",
    "        response = requests.get(url, headers=header)\n",
    "        response.raise_for_status()\n",
    "        data = response.json()\n",
    "        market_cap = data['data']['quote']['USD']['total_market_cap']\n",
    "        return market_cap\n",
    "        \n",
    "    except requests.RequestException as e:\n",
    "        return f\"Failed with {e}\""
   ]
  },
  {
   "cell_type": "code",
   "execution_count": 36,
   "id": "1cc03fc1-1efc-4eb1-b090-501728ea6608",
   "metadata": {},
   "outputs": [],
   "source": [
    "def get_fear_and_greed():\n",
    "    url = 'https://api.alternative.me/fng/'\n",
    "\n",
    "    headers = {\n",
    "      'Accepts': 'application/json',\n",
    "    }\n",
    "\n",
    "    try:\n",
    "        response = requests.get(url, headers=header)\n",
    "        response.raise_for_status()\n",
    "        data = response.json()\n",
    "        # data = [{value, value_classification, timestamp, time_until_update}]\n",
    "        data = list(data['data'])\n",
    "        value = data[0]['value']\n",
    "        classification = data[0]['value_classification']\n",
    "        \n",
    "        return int(value), classification\n",
    "        \n",
    "    except requests.RequestException as e:\n",
    "        return f\"Failed with {e}\""
   ]
  },
  {
   "cell_type": "code",
   "execution_count": null,
   "id": "4580f88b-23c9-4d7d-b0da-0448e7331a92",
   "metadata": {},
   "outputs": [],
   "source": [
    "def get_btc_inflow_all_exchanges():\n",
    "    url = 'https://api.cryptoquant.com/v1/btc/exchange-flows/inflow'\n",
    "\n",
    "    headers = {\n",
    "      'Accepts': 'application/json',\n",
    "    }\n"
   ]
  },
  {
   "cell_type": "code",
   "execution_count": 37,
   "id": "81f5256c-f030-448a-ab82-3bdfabb4e46b",
   "metadata": {},
   "outputs": [
    {
     "data": {
      "text/plain": [
       "(81, 'Extreme Greed')"
      ]
     },
     "execution_count": 37,
     "metadata": {},
     "output_type": "execute_result"
    }
   ],
   "source": [
    "get_fear_and_greed()"
   ]
  }
 ],
 "metadata": {
  "kernelspec": {
   "display_name": "Python 3 (ipykernel)",
   "language": "python",
   "name": "python3"
  },
  "language_info": {
   "codemirror_mode": {
    "name": "ipython",
    "version": 3
   },
   "file_extension": ".py",
   "mimetype": "text/x-python",
   "name": "python",
   "nbconvert_exporter": "python",
   "pygments_lexer": "ipython3",
   "version": "3.10.12"
  }
 },
 "nbformat": 4,
 "nbformat_minor": 5
}
